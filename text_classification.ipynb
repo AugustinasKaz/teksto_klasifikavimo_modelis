{
 "cells": [
  {
   "cell_type": "code",
   "execution_count": null,
   "source": [
    "import sagemaker\n",
    "from sagemaker import get_execution_role\n",
    "import json\n",
    "import boto3\n",
    "\n",
    "sess = sagemaker.Session(default_bucket='sagemaker-training-bucket-augustas')\n",
    "role = get_execution_role()\n",
    "\n",
    "bucket = 'sagemaker-training-bucket-augustas'\n",
    "prefix = \"blazingtext/supervised_model_training_data\""
   ],
   "outputs": [],
   "metadata": {}
  },
  {
   "cell_type": "code",
   "execution_count": null,
   "source": [
    "!wget https://github.com/saurabh3949/Text-Classification-Datasets/raw/master/dbpedia_csv.tar.gz\n",
    "!tar -xzvf dbpedia_csv.tar.gz\n",
    "!head dbpedia_csv/train.csv -n 3"
   ],
   "outputs": [],
   "metadata": {}
  },
  {
   "cell_type": "code",
   "execution_count": null,
   "source": [
    "index_to_label = {}\n",
    "with open(\"training_data/classes.txt\") as f:\n",
    "    for i, label in enumerate(f.readlines()):\n",
    "        index_to_label[str(i + 1)] = label.strip()\n",
    "print(index_to_label)\n"
   ],
   "outputs": [],
   "metadata": {}
  }
 ],
 "metadata": {
  "orig_nbformat": 4,
  "language_info": {
   "name": "python"
  }
 },
 "nbformat": 4,
 "nbformat_minor": 2
}